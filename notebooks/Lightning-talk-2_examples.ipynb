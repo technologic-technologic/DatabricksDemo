{
 "cells": [
  {
   "cell_type": "code",
   "execution_count": 0,
   "metadata": {
    "application/vnd.databricks.v1+cell": {
     "cellMetadata": {
      "byteLimit": 2048000,
      "rowLimit": 10000
     },
     "inputWidgets": {},
     "nuid": "bc6dc8c6-aa3e-4063-9c03-70fe15cff941",
     "showTitle": false,
     "tableResultSettingsMap": {},
     "title": ""
    }
   },
   "outputs": [],
   "source": [
    "use catalog sales_data"
   ]
  },
  {
   "cell_type": "code",
   "execution_count": 0,
   "metadata": {
    "application/vnd.databricks.v1+cell": {
     "cellMetadata": {
      "byteLimit": 2048000,
      "rowLimit": 10000
     },
     "inputWidgets": {},
     "nuid": "07fe2747-9baf-4d0e-8728-bcc47a6e8783",
     "showTitle": false,
     "tableResultSettingsMap": {},
     "title": ""
    }
   },
   "outputs": [],
   "source": [
    "use schema north_america;"
   ]
  },
  {
   "cell_type": "code",
   "execution_count": 0,
   "metadata": {
    "application/vnd.databricks.v1+cell": {
     "cellMetadata": {
      "byteLimit": 2048000,
      "rowLimit": 10000
     },
     "inputWidgets": {},
     "nuid": "ae523ebb-7969-49ac-8cc2-68742702b6e9",
     "showTitle": false,
     "tableResultSettingsMap": {},
     "title": ""
    }
   },
   "outputs": [],
   "source": [
    "INSERT INTO orders_2025 (order_id, customer_id, order_date, amount) VALUES\n",
    "('ORD001', 'CUST001', '2025-07-01', 120.50),\n",
    "('ORD002', 'CUST002', '2025-07-02', 75.00),\n",
    "('ORD003', 'CUST003', '2025-07-03', 210.30),\n",
    "('ORD004', 'CUST001', '2025-07-04', 89.99),\n",
    "('ORD005', 'CUST004', '2025-07-05', 300.00),\n",
    "('ORD006', 'CUST005', '2025-07-06', 49.95),\n",
    "('ORD007', 'CUST006', '2025-07-07', 150.00),\n",
    "('ORD008', 'CUST002', '2025-07-08', 225.75),\n",
    "('ORD009', 'CUST007', '2025-07-09', 99.99),\n",
    "('ORD010', 'CUST008', '2025-07-10', 180.00),\n",
    "('ORD011', 'CUST009', '2025-07-11', 75.20),\n",
    "('ORD012', 'CUST010', '2025-07-12', 130.00),\n",
    "('ORD013', 'CUST003', '2025-07-13', 299.99),\n",
    "('ORD014', 'CUST011', '2025-07-14', 400.00),\n",
    "('ORD015', 'CUST012', '2025-07-15', 60.00),\n",
    "('ORD016', 'CUST013', '2025-07-16', 240.40),\n",
    "('ORD017', 'CUST014', '2025-07-17', 190.85),\n",
    "('ORD018', 'CUST015', '2025-07-18', 350.00),\n",
    "('ORD019', 'CUST016', '2025-07-19', 140.00),\n",
    "('ORD020', 'CUST017', '2025-07-20', 99.95);\n"
   ]
  },
  {
   "cell_type": "code",
   "execution_count": 0,
   "metadata": {
    "application/vnd.databricks.v1+cell": {
     "cellMetadata": {
      "byteLimit": 2048000,
      "rowLimit": 10000
     },
     "inputWidgets": {},
     "nuid": "50d0310e-4391-4ec9-b169-a9481c59e27b",
     "showTitle": false,
     "tableResultSettingsMap": {},
     "title": ""
    }
   },
   "outputs": [],
   "source": [
    "create or replace table orders_temp as\n",
    "select * from orders_2025;"
   ]
  },
  {
   "cell_type": "code",
   "execution_count": 0,
   "metadata": {
    "application/vnd.databricks.v1+cell": {
     "cellMetadata": {},
     "inputWidgets": {},
     "nuid": "1e857f24-2a7e-41ce-aff6-177bc86210a5",
     "showTitle": false,
     "tableResultSettingsMap": {},
     "title": ""
    }
   },
   "outputs": [],
   "source": [
    "MERGE INTO orders_2025\n",
    "USING updates AS source\n",
    "ON sales_data.orders.id = updates.id\n",
    "WHEN MATCHED THEN UPDATE SET *\n",
    "WHEN NOT MATCHED THEN INSERT *\n"
   ]
  }
 ],
 "metadata": {
  "application/vnd.databricks.v1+notebook": {
   "computePreferences": null,
   "dashboards": [],
   "environmentMetadata": {
    "base_environment": "",
    "environment_version": "2"
   },
   "inputWidgetPreferences": null,
   "language": "sql",
   "notebookMetadata": {
    "pythonIndentUnit": 4
   },
   "notebookName": "Lightning-talk-2_examples",
   "widgets": {}
  },
  "language_info": {
   "name": "sql"
  }
 },
 "nbformat": 4,
 "nbformat_minor": 0
}
