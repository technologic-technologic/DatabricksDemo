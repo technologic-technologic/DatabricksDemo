{
 "cells": [
  {
   "cell_type": "code",
   "execution_count": 0,
   "metadata": {
    "application/vnd.databricks.v1+cell": {
     "cellMetadata": {
      "byteLimit": 2048000,
      "rowLimit": 10000
     },
     "inputWidgets": {},
     "nuid": "d8f2ccb9-881d-4946-ac5f-845ccb7ce843",
     "showTitle": true,
     "tableResultSettingsMap": {},
     "title": "LOG hive"
    }
   },
   "outputs": [],
   "source": [
    "USE CATALOG hive_metastore"
   ]
  },
  {
   "cell_type": "code",
   "execution_count": 0,
   "metadata": {
    "application/vnd.databricks.v1+cell": {
     "cellMetadata": {
      "byteLimit": 2048000,
      "rowLimit": 10000
     },
     "inputWidgets": {},
     "nuid": "5ca9fd66-796f-4744-8c4a-57cd8f223068",
     "showTitle": false,
     "tableResultSettingsMap": {},
     "title": ""
    }
   },
   "outputs": [],
   "source": [
    "Use default"
   ]
  },
  {
   "cell_type": "code",
   "execution_count": 0,
   "metadata": {
    "application/vnd.databricks.v1+cell": {
     "cellMetadata": {
      "byteLimit": 2048000,
      "rowLimit": 10000
     },
     "inputWidgets": {},
     "nuid": "0c9d6735-35d3-46fe-b38a-02e56f78b8d9",
     "showTitle": false,
     "tableResultSettingsMap": {},
     "title": ""
    }
   },
   "outputs": [],
   "source": [
    "CREATE TABLE IF NOT EXISTS smartphones\n",
    "(id INT,name STRING, brand STRING, year INT);\n",
    "\n",
    "INSERT INTO smartphones (id, name, brand, year) VALUES\n",
    "(1, 'Galaxy S21', 'Samsung', 2021),\n",
    "(2, 'iPhone 13', 'Apple', 2021),\n",
    "(3, 'Pixel 6', 'Google', 2021),\n",
    "(4, 'Xperia 5 III', 'Sony', 2021),\n",
    "(5, 'Mi 11', 'Xiaomi', 2021),\n",
    "(6, 'Galaxy S22', 'Samsung', 2022),\n",
    "(7, 'iPhone 14', 'Apple', 2022),\n",
    "(8, 'Pixel 7', 'Google', 2022),\n",
    "(9, 'OnePlus 10 Pro', 'OnePlus', 2022),\n",
    "(10, 'Redmi Note 11', 'Xiaomi', 2022),\n",
    "(11, 'Galaxy S23', 'Samsung', 2023),\n",
    "(12, 'iPhone 15', 'Apple', 2023),\n",
    "(13, 'Pixel 8', 'Google', 2023),\n",
    "(14, 'Xperia 1 V', 'Sony', 2023),\n",
    "(15, 'Mi 13', 'Xiaomi', 2023),\n",
    "(16, 'Nothing Phone 1', 'Nothing', 2022),\n",
    "(17, 'Motorola Edge 30', 'Motorola', 2022),\n",
    "(18, 'Asus ROG Phone 6', 'Asus', 2022),\n",
    "(19, 'Realme GT 2 Pro', 'Realme', 2022),\n",
    "(20, 'Honor Magic4 Pro', 'Honor', 2022);\n"
   ]
  },
  {
   "cell_type": "code",
   "execution_count": 0,
   "metadata": {
    "application/vnd.databricks.v1+cell": {
     "cellMetadata": {
      "byteLimit": 2048000,
      "rowLimit": 10000
     },
     "inputWidgets": {},
     "nuid": "52d335b6-5a47-40cf-855f-a9aec57fb2f7",
     "showTitle": false,
     "tableResultSettingsMap": {},
     "title": ""
    }
   },
   "outputs": [],
   "source": [
    "CREATE VIEW apple_phones AS SELECT * FROM smartphones WHERE brand = 'Apple';\n",
    "CREATE VIEW samsung_phones AS SELECT * FROM smartphones WHERE brand = 'Samsung';\n",
    "CREATE VIEW google_phones AS SELECT * FROM smartphones WHERE brand = 'Google';\n"
   ]
  },
  {
   "cell_type": "code",
   "execution_count": 0,
   "metadata": {
    "application/vnd.databricks.v1+cell": {
     "cellMetadata": {
      "byteLimit": 2048000,
      "rowLimit": 10000
     },
     "inputWidgets": {},
     "nuid": "a0cc379d-ec49-4a6a-90e2-843cbbbeed7d",
     "showTitle": false,
     "tableResultSettingsMap": {},
     "title": ""
    }
   },
   "outputs": [],
   "source": [
    "SELECT * from apple_phones;"
   ]
  },
  {
   "cell_type": "code",
   "execution_count": 0,
   "metadata": {
    "application/vnd.databricks.v1+cell": {
     "cellMetadata": {
      "byteLimit": 2048000,
      "rowLimit": 10000
     },
     "inputWidgets": {},
     "nuid": "418a1eef-b517-4bb3-8bf5-833097bfeb3a",
     "showTitle": false,
     "tableResultSettingsMap": {},
     "title": ""
    }
   },
   "outputs": [],
   "source": [
    "CREATE TEMPORARY VIEW temp_phones_brands\n",
    "AS SELECT DISTINCT brand FROM smartphones;\n",
    "SELECT * FROM temp_phones_brands"
   ]
  },
  {
   "cell_type": "code",
   "execution_count": 0,
   "metadata": {
    "application/vnd.databricks.v1+cell": {
     "cellMetadata": {
      "byteLimit": 2048000,
      "rowLimit": 10000
     },
     "inputWidgets": {},
     "nuid": "8218fcbb-4667-458e-8d96-f187ff14bc3c",
     "showTitle": false,
     "tableResultSettingsMap": {},
     "title": ""
    }
   },
   "outputs": [],
   "source": [
    "SHOW TABLES;"
   ]
  },
  {
   "cell_type": "code",
   "execution_count": 0,
   "metadata": {
    "application/vnd.databricks.v1+cell": {
     "cellMetadata": {
      "byteLimit": 2048000,
      "rowLimit": 10000
     },
     "inputWidgets": {},
     "nuid": "5d19a0c1-7046-4a7d-b4a7-5c6626a8f14e",
     "showTitle": false,
     "tableResultSettingsMap": {},
     "title": ""
    }
   },
   "outputs": [],
   "source": [
    "CREATE OR REPLACE GLOBAL TEMPORARY VIEW global_temp_latest_phones\n",
    "AS SELECT * FROM smartphones WHERE year > 2020\n",
    "ORDER BY year desc;"
   ]
  },
  {
   "cell_type": "code",
   "execution_count": 0,
   "metadata": {
    "application/vnd.databricks.v1+cell": {
     "cellMetadata": {},
     "inputWidgets": {},
     "nuid": "1351a179-a57a-4749-b8dd-a16e5b5f3037",
     "showTitle": false,
     "tableResultSettingsMap": {},
     "title": ""
    }
   },
   "outputs": [],
   "source": []
  }
 ],
 "metadata": {
  "application/vnd.databricks.v1+notebook": {
   "computePreferences": null,
   "dashboards": [],
   "environmentMetadata": {
    "base_environment": "",
    "environment_version": "2"
   },
   "inputWidgetPreferences": null,
   "language": "sql",
   "notebookMetadata": {
    "pythonIndentUnit": 4
   },
   "notebookName": "Views",
   "widgets": {}
  },
  "language_info": {
   "name": "sql"
  }
 },
 "nbformat": 4,
 "nbformat_minor": 0
}
