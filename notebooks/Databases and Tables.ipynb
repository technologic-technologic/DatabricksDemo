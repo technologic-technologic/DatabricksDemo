{
 "cells": [
  {
   "cell_type": "code",
   "execution_count": 0,
   "metadata": {
    "application/vnd.databricks.v1+cell": {
     "cellMetadata": {
      "byteLimit": 2048000,
      "rowLimit": 10000
     },
     "inputWidgets": {},
     "nuid": "e6375a3d-12f0-4bbc-860f-80f5984f616a",
     "showTitle": false,
     "tableResultSettingsMap": {},
     "title": ""
    }
   },
   "outputs": [],
   "source": [
    "%sql\n",
    "use catalog hive_metastore"
   ]
  },
  {
   "cell_type": "code",
   "execution_count": 0,
   "metadata": {
    "application/vnd.databricks.v1+cell": {
     "cellMetadata": {
      "byteLimit": 2048000,
      "implicitDf": true,
      "rowLimit": 10000
     },
     "inputWidgets": {},
     "nuid": "24805a11-7817-426f-bbb4-568adfddbe15",
     "showTitle": false,
     "tableResultSettingsMap": {},
     "title": ""
    }
   },
   "outputs": [],
   "source": [
    "%sql\n",
    "CREATE TABLE managed_default\n",
    "(width INT, length INT, heigth INT);"
   ]
  },
  {
   "cell_type": "code",
   "execution_count": 0,
   "metadata": {
    "application/vnd.databricks.v1+cell": {
     "cellMetadata": {
      "byteLimit": 2048000,
      "implicitDf": true,
      "rowLimit": 10000
     },
     "inputWidgets": {},
     "nuid": "6bcbd8db-00ef-4b6f-90e5-38df028918e2",
     "showTitle": false,
     "tableResultSettingsMap": {},
     "title": ""
    }
   },
   "outputs": [],
   "source": [
    "%sql\n",
    "INSERT INTO managed_default (width, length, heigth) VALUES (10, 20, 15);\n",
    "INSERT INTO managed_default (width, length, heigth) VALUES (25, 30, 18);\n",
    "INSERT INTO managed_default (width, length, heigth) VALUES (12, 22, 16);\n",
    "INSERT INTO managed_default (width, length, heigth) VALUES (18, 28, 20);\n",
    "INSERT INTO managed_default (width, length, heigth) VALUES (15, 25, 17);\n"
   ]
  },
  {
   "cell_type": "code",
   "execution_count": 0,
   "metadata": {
    "application/vnd.databricks.v1+cell": {
     "cellMetadata": {
      "byteLimit": 2048000,
      "implicitDf": true,
      "rowLimit": 10000
     },
     "inputWidgets": {},
     "nuid": "5ea68a10-ca6e-447c-9327-9d71c1bce362",
     "showTitle": false,
     "tableResultSettingsMap": {},
     "title": ""
    }
   },
   "outputs": [],
   "source": [
    "%sql\n",
    "DESCRIBE EXTENDED managed_default;\n",
    "    "
   ]
  },
  {
   "cell_type": "code",
   "execution_count": 0,
   "metadata": {
    "application/vnd.databricks.v1+cell": {
     "cellMetadata": {
      "byteLimit": 2048000,
      "implicitDf": true,
      "rowLimit": 10000
     },
     "inputWidgets": {},
     "nuid": "dc61efd6-535d-456d-9cee-ad6d9de96184",
     "showTitle": false,
     "tableResultSettingsMap": {},
     "title": ""
    }
   },
   "outputs": [],
   "source": [
    "%sql\n",
    "CREATE TABLE external_default\n",
    "(width INT, length INT, heigth INT)\n",
    "LOCATION 'dbfs:/mnt/demo/external_default'"
   ]
  },
  {
   "cell_type": "code",
   "execution_count": 0,
   "metadata": {
    "application/vnd.databricks.v1+cell": {
     "cellMetadata": {
      "byteLimit": 2048000,
      "implicitDf": true,
      "rowLimit": 10000
     },
     "inputWidgets": {},
     "nuid": "5d851d51-ed7c-4806-875e-ced4bdc352b9",
     "showTitle": false,
     "tableResultSettingsMap": {},
     "title": ""
    }
   },
   "outputs": [],
   "source": [
    "%sql\n",
    "INSERT INTO external_default (width, length, heigth) VALUES (10, 20, 15);\n",
    "INSERT INTO external_default (width, length, heigth) VALUES (25, 30, 18);\n",
    "INSERT INTO external_default (width, length, heigth) VALUES (12, 22, 16);\n",
    "INSERT INTO external_default (width, length, heigth) VALUES (18, 28, 20);\n",
    "INSERT INTO external_default (width, length, heigth) VALUES (15, 25, 17);\n"
   ]
  },
  {
   "cell_type": "code",
   "execution_count": 0,
   "metadata": {
    "application/vnd.databricks.v1+cell": {
     "cellMetadata": {
      "byteLimit": 2048000,
      "implicitDf": true,
      "rowLimit": 10000
     },
     "inputWidgets": {},
     "nuid": "0cdd02dc-facf-47b1-b8e0-361944abec04",
     "showTitle": false,
     "tableResultSettingsMap": {},
     "title": ""
    }
   },
   "outputs": [],
   "source": [
    "%sql\n",
    "DESCRIBE EXTENDED external_default;\n",
    "    "
   ]
  },
  {
   "cell_type": "code",
   "execution_count": 0,
   "metadata": {
    "application/vnd.databricks.v1+cell": {
     "cellMetadata": {
      "byteLimit": 2048000,
      "implicitDf": true,
      "rowLimit": 10000
     },
     "inputWidgets": {},
     "nuid": "0e95fd02-9ca9-40c6-aef6-f4746dd49b6d",
     "showTitle": false,
     "tableResultSettingsMap": {},
     "title": ""
    }
   },
   "outputs": [],
   "source": [
    "%sql\n",
    "CREATE SCHEMA new_default"
   ]
  },
  {
   "cell_type": "code",
   "execution_count": 0,
   "metadata": {
    "application/vnd.databricks.v1+cell": {
     "cellMetadata": {
      "byteLimit": 2048000,
      "implicitDf": true,
      "rowLimit": 10000
     },
     "inputWidgets": {},
     "nuid": "745b462d-3fd1-455b-bef9-e056f50ab8da",
     "showTitle": false,
     "tableResultSettingsMap": {},
     "title": ""
    }
   },
   "outputs": [],
   "source": [
    "%sql\n",
    "DESCRIBE DATABASE EXTENDED new_default;"
   ]
  },
  {
   "cell_type": "code",
   "execution_count": 0,
   "metadata": {
    "application/vnd.databricks.v1+cell": {
     "cellMetadata": {
      "byteLimit": 2048000,
      "implicitDf": true,
      "rowLimit": 10000
     },
     "inputWidgets": {},
     "nuid": "be874927-cf94-4cf1-b120-ac4da14988d7",
     "showTitle": false,
     "tableResultSettingsMap": {},
     "title": ""
    }
   },
   "outputs": [],
   "source": [
    "%sql\n",
    "USE new_default;\n",
    "    \n"
   ]
  },
  {
   "cell_type": "code",
   "execution_count": 0,
   "metadata": {
    "application/vnd.databricks.v1+cell": {
     "cellMetadata": {
      "byteLimit": 2048000,
      "implicitDf": true,
      "rowLimit": 10000
     },
     "inputWidgets": {},
     "nuid": "d814a751-dfe5-42c6-8c98-eaab9280a482",
     "showTitle": false,
     "tableResultSettingsMap": {},
     "title": ""
    }
   },
   "outputs": [],
   "source": [
    "%sql\n",
    "CREATE TABLE IF NOT EXISTS managed_new_default\n",
    "(width INT, length INT, heigth INT);\n",
    "    \n",
    "INSERT INTO managed_new_default (width, length, heigth) VALUES (11, 28, 17);\n",
    "INSERT INTO managed_new_default (width, length, heigth) VALUES (21, 30, 17);\n",
    "INSERT INTO managed_new_default (width, length, heigth) VALUES (16, 22, 17);\n",
    "INSERT INTO managed_new_default (width, length, heigth) VALUES (18, 28, 20);\n",
    "INSERT INTO managed_new_default (width, length, heigth) VALUES (15, 25, 17);"
   ]
  },
  {
   "cell_type": "code",
   "execution_count": 0,
   "metadata": {
    "application/vnd.databricks.v1+cell": {
     "cellMetadata": {
      "byteLimit": 2048000,
      "implicitDf": true,
      "rowLimit": 10000
     },
     "inputWidgets": {},
     "nuid": "beae8331-5752-448d-8251-19d7dac26453",
     "showTitle": false,
     "tableResultSettingsMap": {},
     "title": ""
    }
   },
   "outputs": [],
   "source": [
    "%sql\n",
    "CREATE TABLE external_new_default\n",
    "(width INT, length INT, heigth INT)\n",
    "LOCATION 'dbfs:/mnt/demo/external_new_default';\n",
    "    \n",
    "INSERT INTO external_new_default (width, length, heigth) VALUES (11, 28, 17);\n",
    "INSERT INTO external_new_default (width, length, heigth) VALUES (21, 30, 17);\n",
    "INSERT INTO external_new_default (width, length, heigth) VALUES (16, 22, 17);\n",
    "INSERT INTO external_new_default (width, length, heigth) VALUES (18, 28, 20);\n",
    "INSERT INTO external_new_default (width, length, heigth) VALUES (15, 25, 17);"
   ]
  },
  {
   "cell_type": "code",
   "execution_count": 0,
   "metadata": {
    "application/vnd.databricks.v1+cell": {
     "cellMetadata": {
      "byteLimit": 2048000,
      "rowLimit": 10000
     },
     "inputWidgets": {},
     "nuid": "d5227afb-d4c8-4a6d-a5b0-41a10f3216dd",
     "showTitle": false,
     "tableResultSettingsMap": {},
     "title": ""
    }
   },
   "outputs": [],
   "source": [
    "USE CATALOG hive_metastore;\n",
    "USE new_default;\n",
    "DESCRIBE EXTENDED managed_new_default;"
   ]
  },
  {
   "cell_type": "code",
   "execution_count": 0,
   "metadata": {
    "application/vnd.databricks.v1+cell": {
     "cellMetadata": {
      "byteLimit": 2048000,
      "rowLimit": 10000
     },
     "inputWidgets": {},
     "nuid": "6748898b-f447-4749-a799-f9edac88e6ca",
     "showTitle": false,
     "tableResultSettingsMap": {},
     "title": ""
    }
   },
   "outputs": [],
   "source": [
    "DESCRIBE EXTENDED external_new_default;"
   ]
  },
  {
   "cell_type": "code",
   "execution_count": 0,
   "metadata": {
    "application/vnd.databricks.v1+cell": {
     "cellMetadata": {
      "byteLimit": 2048000,
      "rowLimit": 10000
     },
     "inputWidgets": {},
     "nuid": "574c1428-814f-45bd-a498-6cbb3ae128aa",
     "showTitle": false,
     "tableResultSettingsMap": {},
     "title": ""
    }
   },
   "outputs": [],
   "source": [
    "CREATE SCHEMA custom\n",
    "LOCATION 'dbfs:/shared/schemas/custom.db'"
   ]
  },
  {
   "cell_type": "code",
   "execution_count": 0,
   "metadata": {
    "application/vnd.databricks.v1+cell": {
     "cellMetadata": {
      "byteLimit": 2048000,
      "rowLimit": 10000
     },
     "inputWidgets": {},
     "nuid": "359d9918-6e5d-4ba1-93ca-1cc15973c58f",
     "showTitle": false,
     "tableResultSettingsMap": {},
     "title": ""
    }
   },
   "outputs": [],
   "source": [
    "DESCRIBE DATABASE EXTENDED custom;"
   ]
  },
  {
   "cell_type": "code",
   "execution_count": 0,
   "metadata": {
    "application/vnd.databricks.v1+cell": {
     "cellMetadata": {
      "byteLimit": 2048000,
      "rowLimit": 10000
     },
     "inputWidgets": {},
     "nuid": "f29250fa-e8bd-4b56-be4b-906b38555655",
     "showTitle": false,
     "tableResultSettingsMap": {},
     "title": ""
    }
   },
   "outputs": [],
   "source": [
    "USE custom;\n"
   ]
  },
  {
   "cell_type": "code",
   "execution_count": 0,
   "metadata": {
    "application/vnd.databricks.v1+cell": {
     "cellMetadata": {
      "byteLimit": 2048000,
      "rowLimit": 10000
     },
     "inputWidgets": {},
     "nuid": "fc030910-1a52-4db0-827d-f5710ec4f5e3",
     "showTitle": false,
     "tableResultSettingsMap": {},
     "title": ""
    }
   },
   "outputs": [],
   "source": [
    "CREATE TABLE IF NOT EXISTS managed_custom\n",
    "(width INT, length INT, heigth INT);\n",
    "    \n",
    "INSERT INTO managed_custom (width, length, heigth) VALUES (11, 28, 17);\n",
    "INSERT INTO managed_custom (width, length, heigth) VALUES (21, 30, 17);\n",
    "INSERT INTO managed_custom (width, length, heigth) VALUES (16, 22, 17);\n",
    "INSERT INTO managed_custom (width, length, heigth) VALUES (18, 28, 20);\n",
    "INSERT INTO managed_custom (width, length, heigth) VALUES (15, 25, 17)"
   ]
  },
  {
   "cell_type": "code",
   "execution_count": 0,
   "metadata": {
    "application/vnd.databricks.v1+cell": {
     "cellMetadata": {
      "byteLimit": 2048000,
      "rowLimit": 10000
     },
     "inputWidgets": {},
     "nuid": "deb5c17f-7c8d-4b44-933c-1cb8946a3f67",
     "showTitle": false,
     "tableResultSettingsMap": {},
     "title": ""
    }
   },
   "outputs": [],
   "source": [
    "CREATE TABLE external_custom\n",
    "(width INT, length INT, heigth INT)\n",
    "LOCATION 'dbfs:/mnt/demo/external_custom';\n",
    "    \n",
    "INSERT INTO external_custom (width, length, heigth) VALUES (11, 28, 17);\n",
    "INSERT INTO external_custom (width, length, heigth) VALUES (21, 30, 17);\n",
    "INSERT INTO external_custom (width, length, heigth) VALUES (16, 22, 17);\n",
    "INSERT INTO external_custom (width, length, heigth) VALUES (18, 28, 20);\n",
    "INSERT INTO external_custom (width, length, heigth) VALUES (15, 25, 17);"
   ]
  },
  {
   "cell_type": "code",
   "execution_count": 0,
   "metadata": {
    "application/vnd.databricks.v1+cell": {
     "cellMetadata": {
      "byteLimit": 2048000,
      "rowLimit": 10000
     },
     "inputWidgets": {},
     "nuid": "a9ce807e-ac5f-4af2-a3c3-8678d3e2ad5f",
     "showTitle": false,
     "tableResultSettingsMap": {},
     "title": ""
    }
   },
   "outputs": [],
   "source": [
    "DESCRIBE EXTENDED managed_custom;\n"
   ]
  },
  {
   "cell_type": "code",
   "execution_count": 0,
   "metadata": {
    "application/vnd.databricks.v1+cell": {
     "cellMetadata": {
      "byteLimit": 2048000,
      "rowLimit": 10000
     },
     "inputWidgets": {},
     "nuid": "48a92121-e380-403d-a00a-b8977e7a0f93",
     "showTitle": false,
     "tableResultSettingsMap": {},
     "title": ""
    }
   },
   "outputs": [],
   "source": [
    "DESCRIBE EXTENDED external_custom;\n",
    "SHOW TABLES;"
   ]
  },
  {
   "cell_type": "code",
   "execution_count": 0,
   "metadata": {
    "application/vnd.databricks.v1+cell": {
     "cellMetadata": {},
     "inputWidgets": {},
     "nuid": "7e7e1b1c-10bd-4484-9283-15d079636728",
     "showTitle": false,
     "tableResultSettingsMap": {},
     "title": ""
    }
   },
   "outputs": [],
   "source": []
  }
 ],
 "metadata": {
  "application/vnd.databricks.v1+notebook": {
   "computePreferences": null,
   "dashboards": [],
   "environmentMetadata": {
    "base_environment": "",
    "environment_version": "2"
   },
   "inputWidgetPreferences": null,
   "language": "sql",
   "notebookMetadata": {
    "mostRecentlyExecutedCommandWithImplicitDF": {
     "commandId": 7554874334467557,
     "dataframes": [
      "_sqldf"
     ]
    },
    "pythonIndentUnit": 4
   },
   "notebookName": "Databases and Tables",
   "widgets": {}
  },
  "language_info": {
   "name": "sql"
  }
 },
 "nbformat": 4,
 "nbformat_minor": 0
}
